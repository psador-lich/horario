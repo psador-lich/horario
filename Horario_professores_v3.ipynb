# Horario de Professores v3
# This notebook will implement more flexible and realistic constraints.

# 1. Instalar a biblioteca ortools
!pip install ortools

# 2. Definições de Classes (v3)

class Professor:
    """
    Representa um professor na escola.
    - horarios_indisponiveis: Uma lista de strings de horários (ex: 'Segunda_07h30') que o professor não pode dar aula.
    """
    def __init__(self, nome, disciplinas_que_leciona, horarios_indisponiveis=None):
        self.nome = nome
        self.disciplinas_que_leciona = disciplinas_que_leciona
        self.horarios_indisponiveis = horarios_indisponiveis if horarios_indisponiveis is not None else []

class Disciplina:
    """
    Representa uma disciplina oferecida pela escola.
    - tipo_sala_requerida: O tipo específico de sala necessária (ex: 'comum', 'lab_quimica').
    - duracao: A duração da aula em slots de horário.
    """
    def __init__(self, nome, requer_laboratorio, curso=None, duracao=1, tipo_sala_requerida='comum'):
        self.nome = nome
        self.requer_laboratorio = requer_laboratorio
        self.curso = curso
        self.duracao = duracao
        self.tipo_sala_requerida = tipo_sala_requerida

class Sala:
    """
    Representa uma sala de aula na escola.
    - tipo_sala: O tipo da sala, correspondendo a tipo_sala_requerida da Disciplina.
    """
    def __init__(self, nome, capacidade, eh_laboratorio, tipo_sala='comum'):
        self.nome = nome
        self.capacidade = capacidade
        self.eh_laboratorio = eh_laboratorio
        self.tipo_sala = tipo_sala

class Turma:
    """
    Representa um grupo de alunos (turma).
    """
    def __init__(self, nome, numero_de_alunos, disciplinas, turno):
        self.nome = nome
        self.numero_de_alunos = numero_de_alunos
        self.disciplinas = disciplinas
        self.turno = turno

print("Definições de classes v3 atualizadas com sucesso.")

import random
import pandas as pd
from datetime import datetime, timedelta
from ortools.sat.python import cp_model

# 3. Geração de Dados (v3)

# Restrições Globais (inicialmente vazia)
restricoes_globais = []
print(f"Restrições globais definidas (atualmente {len(restricoes_globais)}).")

# Disciplinas com tipo de sala
disciplina_names = [
    "Matemática I", "Português I", "Química Geral", "Física Básica", "História Antiga",
    "Biologia Celular", "Geografia Física", "Artes Visuais", "Educação Física", "Inglês Básico",
    "Programação Orientada a Objetos", "Estrutura de Dados", "Redes de Computadores", "Sistemas Operacionais", "Banco de Dados Avançado",
    "Circuitos Digitais", "Eletrônica Analógica", "Máquinas de Corrente Contínua", "Instalações Elétricas", "Automação Industrial",
    "Controle de Poluição", "Tratamento de Água", "Gerenciamento de Resíduos", "Legislação Ambiental", "Impacto Ambiental"
]
disciplinas = []
for name in disciplina_names:
    requer_lab = "Química" in name or "Programação" in name or "Informática" in name or "Circuitos" in name or "Eletrônica" in name or "Redes" in name or "Sistemas" in name or "Banco de Dados" in name
    tipo_sala = 'comum'
    curso = 'Geral'
    if "Química" in name or "Biologia" in name:
        tipo_sala = 'lab_quimica'
        curso = 'Química/Biologia'
    elif "Programação" in name or "Redes" in name or "Sistemas" in name or "Banco de Dados" in name:
        tipo_sala = 'lab_informatica'
        curso = 'Informática/ADS'
    elif "Circuitos" in name or "Eletrônica" in name or "Automação" in name or "Robótica" in name:
        tipo_sala = 'lab_eletrica_robotica'
        curso = 'Automação/Eletrotécnica'

    disciplinas.append(Disciplina(name, requer_lab, curso=curso, tipo_sala_requerida=tipo_sala))
print(f"{len(disciplinas)} disciplinas base criadas com tipos de sala definidos.")

# Professores com horários disponíveis
professores = []
num_professors = 40
for i in range(1, num_professors + 1):
    # Inicializa com nenhuma restrição de horário
    professores.append(Professor(f"Professor {i}", [], horarios_indisponiveis=[]))

# Distribuir um subconjunto de disciplinas para cada professor
disciplinas_disponiveis = list(disciplinas)
for prof in professores:
    num_disciplinas_prof = random.randint(2, 5)
    disciplinas_lecionadas = random.sample(disciplinas_disponiveis, min(num_disciplinas_prof, len(disciplinas_disponiveis)))
    prof.disciplinas_que_leciona = disciplinas_lecionadas
print(f"{len(professores)} professores criados, cada um com 2-5 disciplinas.")

# Salas com tipos definidos
salas = []
for i in range(1, 26): salas.append(Sala(f"Sala Regular {i}", 35, False, tipo_sala='comum'))
for i in range(1, 6): salas.append(Sala(f"Lab Info {i}", 20, True, tipo_sala='lab_informatica'))
for i in range(1, 6): salas.append(Sala(f"Lab Quim {i}", 25, True, tipo_sala='lab_quimica'))
for i in range(1, 6): salas.append(Sala(f"Lab Eletro/Robo {i}", 20, True, tipo_sala='lab_eletrica_robotica'))
print(f"{len(salas)} salas criadas.")

# Turmas com número variável de disciplinas e durações
turmas = []
day_durations = [3]*4 + [2]*4 + [1]*2 # 22 slots
night_durations_map = { 5: [4]*5, 6: [4]*3 + [2]*3, 7: [3]*7, 8: [3]*5 + [2]*3 }

def assign_disciplines_to_turma(num_disciplines, durations, all_disciplines_pool):
    disciplines_pool = list(all_disciplines_pool)
    random.shuffle(disciplines_pool)
    assigned = []
    disciplines_to_assign = disciplines_pool[:num_disciplines]
    for i in range(num_disciplines):
        disc = disciplines_to_assign[i]
        # Garante que a lista de durações seja longa o suficiente
        dur = durations[i % len(durations)]
        assigned.append(Disciplina(disc.nome, disc.requer_laboratorio, disc.curso, duracao=dur, tipo_sala_requerida=disc.tipo_sala_requerida))
    return assigned

# Geração de Turmas
nomes_turmas_diurnas = ["Informática Manhã", "Automação Manhã", "Controle Ambiental Manhã", "Informática Tarde", "Automação Tarde", "Controle Ambiental Tarde", "Administração Tarde"]
nomes_turmas_noturnas = ["Eletrotécnica Noite", "ADS Noite", "Agrocomputação Noite"]

for nome_base in nomes_turmas_diurnas:
    num_disciplinas = random.randint(10, 15)
    random.shuffle(day_durations)
    turno = "Manhã" if "Manhã" in nome_base else "Tarde"
    turmas.append(Turma(nome_base + " 1", 30, assign_disciplines_to_turma(num_disciplinas, day_durations, disciplinas), turno))

for nome_base in nomes_turmas_noturnas:
    num_disciplinas = random.randint(5, 8)
    durations = night_durations_map[num_disciplinas]
    random.shuffle(durations)
    turmas.append(Turma(nome_base + " 1", 25, assign_disciplines_to_turma(num_disciplinas, durations, disciplinas), "Noite"))

print(f"{len(turmas)} turmas criadas com número variável de disciplinas.")

# 4. Mapear horários e construir o modelo de intervalo
horarios_por_turno = {"Manhã": [], "Tarde": [], "Noite": []}
days_of_week = ["Segunda", "Terca", "Quarta", "Quinta", "Sexta"]
morning_start_time = datetime.strptime('07:30', '%H:%M')
afternoon_start_time = datetime.strptime('13:30', '%H:%M')
night_start_time = datetime.strptime('19:00', '%H:%M')
class_duration_minutes = 45
morning_afternoon_classes_before_break = 3
morning_afternoon_classes_after_break = 3
night_classes_before_break = 2
night_classes_after_break = 2
break_duration_minutes = 15

for day in days_of_week:
    current_time = morning_start_time
    for i in range(morning_afternoon_classes_before_break):
        horarios_por_turno["Manhã"].append(f"{day}_{current_time.strftime('%Hh%M')}")
        current_time += timedelta(minutes=class_duration_minutes)
    current_time += timedelta(minutes=break_duration_minutes)
    for i in range(morning_afternoon_classes_after_break):
        horarios_por_turno["Manhã"].append(f"{day}_{current_time.strftime('%Hh%M')}")
        current_time += timedelta(minutes=class_duration_minutes)
    current_time = afternoon_start_time
    for i in range(morning_afternoon_classes_before_break):
        horarios_por_turno["Tarde"].append(f"{day}_{current_time.strftime('%Hh%M')}")
        current_time += timedelta(minutes=class_duration_minutes)
    current_time += timedelta(minutes=break_duration_minutes)
    for i in range(morning_afternoon_classes_after_break):
        horarios_por_turno["Tarde"].append(f"{day}_{current_time.strftime('%Hh%M')}")
        current_time += timedelta(minutes=class_duration_minutes)
    current_time = night_start_time
    for i in range(night_classes_before_break):
        horarios_por_turno["Noite"].append(f"{day}_{current_time.strftime('%Hh%M')}")
        current_time += timedelta(minutes=class_duration_minutes)
    current_time += timedelta(minutes=break_duration_minutes)
    for i in range(night_classes_after_break):
        horarios_por_turno["Noite"].append(f"{day}_{current_time.strftime('%Hh%M')}")
        current_time += timedelta(minutes=class_duration_minutes)

horarios_flat = sorted(list(set(horarios_por_turno["Manhã"] + horarios_por_turno["Tarde"] + horarios_por_turno["Noite"])))
horario_to_int = {horario: i for i, horario in enumerate(horarios_flat)}
int_to_horario = {i: horario for i, horario in enumerate(horarios_flat)}
horizon = len(horarios_flat)
print(f"Horizonte de tempo: {horizon} slots.")

model = cp_model.CpModel()

# 5. Criar variáveis de intervalo
all_tasks = {}
for turma in turmas:
    for disciplina in turma.disciplinas:
        professores_validos = [p for p in professores if any(d.nome == disciplina.nome for d in p.disciplinas_que_leciona)]
        salas_validas = [s for s in salas if s.capacidade >= turma.numero_de_alunos] # Simplified for now

        if not professores_validos or not salas_validas:
            continue

        task_key = (turma.nome, disciplina.nome)
        all_tasks[task_key] = {
            "turma": turma,
            "disciplina": disciplina,
            "professores": professores_validos,
            "salas": salas_validas,
            "assignments": []
        }

for task_key, task_data in all_tasks.items():
    turma = task_data["turma"]
    disciplina = task_data["disciplina"]
    duration = disciplina.duracao
    for professor in task_data["professores"]:
        for sala in task_data["salas"]:
            is_scheduled = model.NewBoolVar(f"is_scheduled_{turma.nome}_{disciplina.nome}_{professor.nome}_{sala.nome}")
            start_var = model.NewIntVar(0, horizon - duration, f"start_{turma.nome}_{disciplina.nome}")
            end_var = model.NewIntVar(0, horizon, f"end_{turma.nome}_{disciplina.nome}")
            interval_var = model.NewOptionalIntervalVar(start_var, duration, end_var, is_scheduled, f"interval_{turma.nome}_{disciplina.nome}_{professor.nome}_{sala.nome}")
            task_data["assignments"].append({"is_scheduled": is_scheduled, "interval": interval_var, "professor": professor, "sala": sala})
print("Variáveis de intervalo criadas com sucesso!")

# 6. Adicionar restrições (v3)

# Lógica de validação de sala atualizada
for task_key, task_data in all_tasks.items():
    disciplina = task_data["disciplina"]
    turma = task_data["turma"]
    # Filtrar atribuições que não atendem ao tipo de sala
    task_data["assignments"] = [
        assign for assign in task_data["assignments"]
        if assign["sala"].tipo_sala == disciplina.tipo_sala_requerida
    ]

# Criar intervalos fixos para horários indisponíveis
for prof in professores:
    prof.dummy_intervals = []
    for horario_str in prof.horarios_indisponiveis:
        if horario_str in horario_to_int:
            idx = horario_to_int[horario_str]
            prof.dummy_intervals.append(model.NewFixedSizeIntervalVar(idx, 1, f"dummy_{prof.nome}_{horario_str}"))

global_dummy_intervals = []
for horario_str in restricoes_globais:
    if horario_str in horario_to_int:
        idx = horario_to_int[horario_str]
        global_dummy_intervals.append(model.NewFixedSizeIntervalVar(idx, 1, f"dummy_global_{horario_str}"))

# Restrição: Não sobrepor aulas para o mesmo recurso
for turma in turmas:
    model.AddNoOverlap([
        assignment["interval"]
        for task_data in all_tasks.values() if task_data["turma"] == turma
        for assignment in task_data["assignments"]
    ])

for professor in professores:
    intervals = professor.dummy_intervals + [
        assignment["interval"]
        for task_data in all_tasks.values()
        for assignment in task_data["assignments"] if assignment["professor"] == professor
    ]
    model.AddNoOverlap(intervals)

for sala in salas:
    intervals = global_dummy_intervals + [
        assignment["interval"]
        for task_data in all_tasks.values()
        for assignment in task_data["assignments"] if assignment["sala"] == sala
    ]
    model.AddNoOverlap(intervals)

# Restrição: Cada aula (turma, disciplina) deve ser agendada no máximo uma vez
for task_key, task_data in all_tasks.items():
    model.AddAtMostOne([
        assignment["is_scheduled"] for assignment in task_data["assignments"]
    ])

# Restrição para garantir que as aulas ocorram nos turnos corretos
for turno in ["Manhã", "Tarde", "Noite"]:
    allowed_indices = [horario_to_int[h] for h in horarios_por_turno[turno] if h in horario_to_int]
    if not allowed_indices: continue
    for task_key, task_data in all_tasks.items():
        if task_data["turma"].turno == turno:
            for assignment in task_data["assignments"]:
                start_var = assignment["interval"].StartExpr()
                model.AddAllowedAssignments([start_var], [(i,) for i in allowed_indices])

print("Restrições v3 (com indisponibilidades) adicionadas.")

# 7. Definir o objetivo e resolver o modelo
objective_vars = [
    assignment["is_scheduled"]
    for task_data in all_tasks.values()
    for assignment in task_data["assignments"]
]
model.Maximize(sum(objective_vars))

solver = cp_model.CpSolver()
solver.parameters.max_time_in_seconds = 120.0
status = solver.Solve(model)

# 8. Processar e exibir a solução
if status == cp_model.OPTIMAL or status == cp_model.FEASIBLE:
    print(f"\nSolução encontrada com status {solver.StatusName(status)}.")
    print(f"Total de aulas agendadas: {solver.ObjectiveValue()}")
    schedule_by_turma = {turma.nome: {} for turma in turmas}
    for task_data in all_tasks.values():
        for assignment in task_data["assignments"]:
            if solver.Value(assignment["is_scheduled"]):
                start_index = solver.Value(assignment["interval"].StartExpr())
                duration = task_data["disciplina"].duracao
                details = f"{task_data['disciplina'].nome}\n({assignment['professor'].nome})\n@{assignment['sala'].nome}"
                for i in range(duration):
                    horario_str = int_to_horario.get(start_index + i)
                    if horario_str:
                        schedule_by_turma[task_data["turma"].nome][horario_str] = details

    print("\n--- Horário Final por Turma ---")
    for turma in turmas:
        print("\n" + "="*100)
        print(f"Horário para: {turma.nome} (Turno: {turma.turno})")
        print("="*100)
        turma_horarios_str = horarios_por_turno[turma.turno]
        time_slots = sorted(list(set(h.split('_')[1] for h in turma_horarios_str)))
        df_data = {day: [schedule_by_turma[turma.nome].get(f"{day}_{slot}", "---") for slot in time_slots] for day in days_of_week}
        df = pd.DataFrame(df_data, index=time_slots)
        print(df.to_string())

    import matplotlib.pyplot as plt
    import numpy as np
    for turma in turmas:
        fig, ax = plt.subplots(figsize=(12, 8))
        ax.axis('off')
        turma_horarios_str = horarios_por_turno[turma.turno]
        time_slots = sorted(list(set(h.split('_')[1] for h in turma_horarios_str)))
        cell_text = [[schedule_by_turma[turma.nome].get(f"{day}_{slot}", "---") for day in days_of_week] for slot in time_slots]
        if not any(any(cell != "---" for cell in row) for row in cell_text):
            plt.close(fig)
            continue
        table = ax.table(cellText=cell_text, rowLabels=time_slots, colLabels=days_of_week, loc='center', cellLoc='center')
        table.auto_set_font_size(False)
        table.set_fontsize(9)
        table.scale(1, 2.5)
        ax.set_title(f"Horário: {turma.nome} (Turno: {turma.turno})", fontsize=16, pad=20)
        fig.tight_layout()
    plt.show()
else:
    print("\nNenhuma solução encontrada.")
